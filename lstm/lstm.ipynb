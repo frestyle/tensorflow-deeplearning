{
 "cells": [
  {
   "cell_type": "code",
   "execution_count": 1,
   "source": [
    "import numpy as np\n",
    "from tensorflow.keras.models import Sequential\n",
    "from tensorflow.keras.layers import LSTM\n",
    "from tensorflow.keras.layers import Dense, Dropout\n",
    "import pandas as pd\n",
    "from matplotlib import pyplot as plt\n",
    "from sklearn.preprocessing import StandardScaler\n",
    "import seaborn as sns"
   ],
   "outputs": [],
   "metadata": {}
  },
  {
   "cell_type": "code",
   "execution_count": 2,
   "source": [
    "#Read the csv file\n",
    "df = pd.read_csv('data/AAPL.csv')\n",
    "train_dates = pd.to_datetime(df['date'])\n"
   ],
   "outputs": [],
   "metadata": {}
  },
  {
   "cell_type": "code",
   "execution_count": 3,
   "source": [
    "\n",
    "#Variables for training\n",
    "cols = ['close','volume']"
   ],
   "outputs": [],
   "metadata": {}
  },
  {
   "cell_type": "code",
   "execution_count": 4,
   "source": [
    "#New dataframe with only training data - 5 columns\n",
    "df_for_training = df[cols].astype(float)"
   ],
   "outputs": [],
   "metadata": {}
  },
  {
   "cell_type": "code",
   "execution_count": 5,
   "source": [
    "#LSTM uses sigmoid and tanh that are sensitive to magnitude so values need to be normalized\n",
    "# normalize the dataset\n",
    "scaler = StandardScaler()\n",
    "scaler = scaler.fit(df_for_training)\n",
    "df_for_training_scaled = scaler.transform(df_for_training)"
   ],
   "outputs": [],
   "metadata": {}
  },
  {
   "cell_type": "code",
   "execution_count": 6,
   "source": [
    "n_train_days = 52   # Number of days we want to remove from test\n",
    "\n",
    "X_train = df_for_training_scaled[: df_for_training_scaled.shape[0] - n_train_days] \n",
    "X_days =  train_dates[: df_for_training_scaled.shape[0] - n_train_days] \n",
    "\n",
    "y_train = df_for_training_scaled[df_for_training_scaled.shape[0] - n_train_days:] \n",
    "y_days =  train_dates[df_for_training_scaled.shape[0] - n_train_days:]"
   ],
   "outputs": [],
   "metadata": {}
  },
  {
   "cell_type": "code",
   "execution_count": 7,
   "source": [
    "\n",
    "#As required for LSTM networks, we require to reshape an input data into n_samples x timesteps x n_features. \n",
    "#In this example, the n_features is 5. We will make timesteps = 14 (past days data used for training). \n",
    "\n",
    "#Empty lists to be populated using formatted training data\n",
    "trainX = []\n",
    "trainY = []\n",
    "\n",
    "n_future = 1   # Number of days we want to look into the future based on the past days.\n",
    "n_past = 14  # Number of past days we want to use to predict the future.\n",
    "\n",
    "#Reformat input data into a shape: (n_samples x timesteps x n_features)\n",
    "#In my example, my df_for_training_scaled has a shape (12823, 5)\n",
    "#12823 refers to the number of data points and 5 refers to the columns (multi-variables).\n",
    "for i in range(n_past, len(X_train) - n_future +1):\n",
    "    trainX.append(X_train[i - n_past:i, 0:df_for_training.shape[1]])\n",
    "    trainY.append(X_train[i + n_future - 1:i + n_future, 0])\n",
    "\n",
    "\n",
    "trainX, trainY = np.array(trainX), np.array(trainY)"
   ],
   "outputs": [],
   "metadata": {}
  },
  {
   "cell_type": "markdown",
   "source": [
    "In my case, trainX has a shape (12809, 14, 5). \n",
    "\n",
    "12809 because we are looking back 14 days (12823 - 14 = 12809). \n",
    "\n",
    "Remember that we cannot look back 14 days until we get to the 15th day. \n",
    "\n",
    "Also, trainY has a shape (12809, 1). Our model only predicts a single value, but \n",
    "\n",
    "it needs multiple variables (5 in my example) to make this prediction. \n",
    "\n",
    "This is why we can only predict a single day after our training, the day after where our data ends.\n",
    "\n",
    "To predict more days in future, we need all the 5 variables which we do not have. \n",
    "\n",
    "We need to predict all variables if we want to do that. \n",
    "\n"
   ],
   "metadata": {}
  },
  {
   "cell_type": "code",
   "execution_count": 8,
   "source": [
    "# define the Autoencoder model\n",
    "\n",
    "model = Sequential()\n",
    "model.add(LSTM(128, activation='relu', input_shape=(trainX.shape[1], trainX.shape[2]), return_sequences=True))\n",
    "model.add(LSTM(64, activation='relu', return_sequences=True))\n",
    "model.add(LSTM(32, activation='relu', return_sequences=False))\n",
    "model.add(Dropout(0.2))\n",
    "model.add(Dense(trainY.shape[1]))\n",
    "\n",
    "model.compile(optimizer='adam', loss='mse')\n",
    "model.summary()\n",
    "\n"
   ],
   "outputs": [
    {
     "output_type": "stream",
     "name": "stdout",
     "text": [
      "WARNING:tensorflow:Layer lstm will not use cuDNN kernels since it doesn't meet the criteria. It will use a generic GPU kernel as fallback when running on GPU.\n",
      "WARNING:tensorflow:Layer lstm_1 will not use cuDNN kernels since it doesn't meet the criteria. It will use a generic GPU kernel as fallback when running on GPU.\n",
      "WARNING:tensorflow:Layer lstm_2 will not use cuDNN kernels since it doesn't meet the criteria. It will use a generic GPU kernel as fallback when running on GPU.\n",
      "Model: \"sequential\"\n",
      "_________________________________________________________________\n",
      "Layer (type)                 Output Shape              Param #   \n",
      "=================================================================\n",
      "lstm (LSTM)                  (None, 14, 128)           67072     \n",
      "_________________________________________________________________\n",
      "lstm_1 (LSTM)                (None, 14, 64)            49408     \n",
      "_________________________________________________________________\n",
      "lstm_2 (LSTM)                (None, 32)                12416     \n",
      "_________________________________________________________________\n",
      "dropout (Dropout)            (None, 32)                0         \n",
      "_________________________________________________________________\n",
      "dense (Dense)                (None, 1)                 33        \n",
      "=================================================================\n",
      "Total params: 128,929\n",
      "Trainable params: 128,929\n",
      "Non-trainable params: 0\n",
      "_________________________________________________________________\n"
     ]
    }
   ],
   "metadata": {}
  },
  {
   "cell_type": "code",
   "execution_count": 9,
   "source": [
    "# fit the model\n",
    "history = model.fit(trainX, trainY, epochs=125, batch_size=16, validation_split=0.1, verbose=1)\n"
   ],
   "outputs": [
    {
     "output_type": "stream",
     "name": "stdout",
     "text": [
      "Epoch 1/125\n",
      "148/148 [==============================] - 12s 63ms/step - loss: 0.0364 - val_loss: 0.1063\n",
      "Epoch 2/125\n",
      "148/148 [==============================] - 9s 62ms/step - loss: 0.0129 - val_loss: 0.2749\n",
      "Epoch 3/125\n",
      "148/148 [==============================] - 10s 65ms/step - loss: 0.0109 - val_loss: 3.1375\n",
      "Epoch 4/125\n",
      "148/148 [==============================] - 10s 65ms/step - loss: 0.0106 - val_loss: 1.7247\n",
      "Epoch 5/125\n",
      "148/148 [==============================] - 10s 67ms/step - loss: 0.0101 - val_loss: 0.3886\n",
      "Epoch 6/125\n",
      "148/148 [==============================] - 10s 68ms/step - loss: 0.0094 - val_loss: 0.6507\n",
      "Epoch 7/125\n",
      "148/148 [==============================] - 10s 66ms/step - loss: 0.0090 - val_loss: 0.5307\n",
      "Epoch 8/125\n",
      "148/148 [==============================] - 10s 67ms/step - loss: 0.0087 - val_loss: 1.2008\n",
      "Epoch 9/125\n",
      "148/148 [==============================] - 10s 66ms/step - loss: 0.0090 - val_loss: 1.1376\n",
      "Epoch 10/125\n",
      "148/148 [==============================] - 10s 64ms/step - loss: 0.0090 - val_loss: 2.7812\n",
      "Epoch 11/125\n",
      "148/148 [==============================] - 10s 66ms/step - loss: 0.0080 - val_loss: 1.2992\n",
      "Epoch 12/125\n",
      "148/148 [==============================] - 10s 68ms/step - loss: 0.0088 - val_loss: 1.0736\n",
      "Epoch 13/125\n",
      "148/148 [==============================] - 10s 69ms/step - loss: 0.0081 - val_loss: 1.4041\n",
      "Epoch 14/125\n",
      "148/148 [==============================] - 10s 67ms/step - loss: 0.0086 - val_loss: 1.7551\n",
      "Epoch 15/125\n",
      "148/148 [==============================] - 10s 68ms/step - loss: 0.0079 - val_loss: 1.0646\n",
      "Epoch 16/125\n",
      "148/148 [==============================] - 10s 66ms/step - loss: 0.0068 - val_loss: 2.1878\n",
      "Epoch 17/125\n",
      "148/148 [==============================] - 9s 64ms/step - loss: 0.0079 - val_loss: 3.2086\n",
      "Epoch 18/125\n",
      "148/148 [==============================] - 9s 64ms/step - loss: 0.0076 - val_loss: 1.7113\n",
      "Epoch 19/125\n",
      "148/148 [==============================] - 10s 66ms/step - loss: 0.0082 - val_loss: 1.4535\n",
      "Epoch 20/125\n",
      "148/148 [==============================] - 10s 66ms/step - loss: 0.0074 - val_loss: 1.1611\n",
      "Epoch 21/125\n",
      "148/148 [==============================] - 10s 65ms/step - loss: 0.0074 - val_loss: 1.0945\n",
      "Epoch 22/125\n",
      "148/148 [==============================] - 10s 66ms/step - loss: 0.0069 - val_loss: 1.0755\n",
      "Epoch 23/125\n",
      "148/148 [==============================] - 10s 65ms/step - loss: 0.0074 - val_loss: 1.2675\n",
      "Epoch 24/125\n",
      "148/148 [==============================] - 10s 66ms/step - loss: 0.0081 - val_loss: 1.2221\n",
      "Epoch 25/125\n",
      "148/148 [==============================] - 10s 66ms/step - loss: 0.0069 - val_loss: 1.8194\n",
      "Epoch 26/125\n",
      "148/148 [==============================] - 10s 66ms/step - loss: 0.0071 - val_loss: 1.2946\n",
      "Epoch 27/125\n",
      "148/148 [==============================] - 10s 68ms/step - loss: 0.0078 - val_loss: 0.8898\n",
      "Epoch 28/125\n",
      "148/148 [==============================] - 10s 65ms/step - loss: 0.0067 - val_loss: 0.9069\n",
      "Epoch 29/125\n",
      "148/148 [==============================] - 10s 65ms/step - loss: 0.0072 - val_loss: 2.1030\n",
      "Epoch 30/125\n",
      "148/148 [==============================] - 10s 69ms/step - loss: 0.0076 - val_loss: 0.7386\n",
      "Epoch 31/125\n",
      "148/148 [==============================] - 10s 70ms/step - loss: 0.0070 - val_loss: 1.1566\n",
      "Epoch 32/125\n",
      "148/148 [==============================] - 11s 71ms/step - loss: 0.0074 - val_loss: 0.8929\n",
      "Epoch 33/125\n",
      "148/148 [==============================] - 11s 75ms/step - loss: 0.0071 - val_loss: 0.6956\n",
      "Epoch 34/125\n",
      "148/148 [==============================] - 10s 71ms/step - loss: 0.0068 - val_loss: 0.7644\n",
      "Epoch 35/125\n",
      "148/148 [==============================] - 10s 68ms/step - loss: 0.0064 - val_loss: 0.5483\n",
      "Epoch 36/125\n",
      "148/148 [==============================] - 11s 72ms/step - loss: 0.0062 - val_loss: 0.7551\n",
      "Epoch 37/125\n",
      "148/148 [==============================] - 10s 66ms/step - loss: 0.0064 - val_loss: 0.5713\n",
      "Epoch 38/125\n",
      "148/148 [==============================] - 10s 68ms/step - loss: 0.0065 - val_loss: 0.4982\n",
      "Epoch 39/125\n",
      "148/148 [==============================] - 10s 68ms/step - loss: 0.0067 - val_loss: 0.5885\n",
      "Epoch 40/125\n",
      "148/148 [==============================] - 10s 66ms/step - loss: 0.0064 - val_loss: 0.5700\n",
      "Epoch 41/125\n",
      "148/148 [==============================] - 10s 66ms/step - loss: 0.0072 - val_loss: 0.5469\n",
      "Epoch 42/125\n",
      "148/148 [==============================] - 10s 69ms/step - loss: 0.0067 - val_loss: 0.3769\n",
      "Epoch 43/125\n",
      "148/148 [==============================] - 10s 67ms/step - loss: 0.0069 - val_loss: 0.3697\n",
      "Epoch 44/125\n",
      "148/148 [==============================] - 10s 66ms/step - loss: 0.0062 - val_loss: 0.3612\n",
      "Epoch 45/125\n",
      "148/148 [==============================] - 10s 67ms/step - loss: 0.0065 - val_loss: 0.4626\n",
      "Epoch 46/125\n",
      "148/148 [==============================] - 11s 73ms/step - loss: 0.0068 - val_loss: 0.5034\n",
      "Epoch 47/125\n",
      "148/148 [==============================] - 10s 70ms/step - loss: 0.0065 - val_loss: 0.8928\n",
      "Epoch 48/125\n",
      "148/148 [==============================] - 10s 70ms/step - loss: 0.0074 - val_loss: 0.5989\n",
      "Epoch 49/125\n",
      "148/148 [==============================] - 10s 69ms/step - loss: 0.0067 - val_loss: 1.3951\n",
      "Epoch 50/125\n",
      "148/148 [==============================] - 10s 69ms/step - loss: 0.0060 - val_loss: 0.4427\n",
      "Epoch 51/125\n",
      "148/148 [==============================] - 11s 75ms/step - loss: 0.0063 - val_loss: 0.7582\n",
      "Epoch 52/125\n",
      "148/148 [==============================] - 10s 69ms/step - loss: 0.0064 - val_loss: 0.6797\n",
      "Epoch 53/125\n",
      "148/148 [==============================] - 10s 67ms/step - loss: 0.0061 - val_loss: 0.3772\n",
      "Epoch 54/125\n",
      "148/148 [==============================] - 10s 67ms/step - loss: 0.0081 - val_loss: 0.6879\n",
      "Epoch 55/125\n",
      "148/148 [==============================] - 10s 65ms/step - loss: 0.0073 - val_loss: 0.6740\n",
      "Epoch 56/125\n",
      "148/148 [==============================] - 10s 67ms/step - loss: 0.0064 - val_loss: 0.7141\n",
      "Epoch 57/125\n",
      "148/148 [==============================] - 10s 68ms/step - loss: 0.0060 - val_loss: 0.4688\n",
      "Epoch 58/125\n",
      "148/148 [==============================] - 9s 63ms/step - loss: 0.0066 - val_loss: 1.0257\n",
      "Epoch 59/125\n",
      "148/148 [==============================] - 9s 59ms/step - loss: 0.0063 - val_loss: 0.9821\n",
      "Epoch 60/125\n",
      "148/148 [==============================] - 9s 59ms/step - loss: 0.0066 - val_loss: 0.6953\n",
      "Epoch 61/125\n",
      "148/148 [==============================] - 9s 58ms/step - loss: 0.0069 - val_loss: 0.8308\n",
      "Epoch 62/125\n",
      "148/148 [==============================] - 9s 59ms/step - loss: 0.0071 - val_loss: 0.4262\n",
      "Epoch 63/125\n",
      "148/148 [==============================] - 9s 58ms/step - loss: 0.0057 - val_loss: 0.3654\n",
      "Epoch 64/125\n",
      "148/148 [==============================] - 9s 58ms/step - loss: 0.0066 - val_loss: 0.5872\n",
      "Epoch 65/125\n",
      "148/148 [==============================] - 9s 58ms/step - loss: 0.0071 - val_loss: 0.2746\n",
      "Epoch 66/125\n",
      "148/148 [==============================] - 9s 58ms/step - loss: 0.0062 - val_loss: 0.3301\n",
      "Epoch 67/125\n",
      "148/148 [==============================] - 9s 58ms/step - loss: 0.0064 - val_loss: 0.2935\n",
      "Epoch 68/125\n",
      "148/148 [==============================] - 9s 59ms/step - loss: 0.0070 - val_loss: 0.2545\n",
      "Epoch 69/125\n",
      "148/148 [==============================] - 9s 61ms/step - loss: 0.0061 - val_loss: 0.3413\n",
      "Epoch 70/125\n",
      "148/148 [==============================] - 9s 59ms/step - loss: 0.0063 - val_loss: 0.3521\n",
      "Epoch 71/125\n",
      "148/148 [==============================] - 9s 58ms/step - loss: 0.0060 - val_loss: 0.3683\n",
      "Epoch 72/125\n",
      "148/148 [==============================] - 8s 57ms/step - loss: 0.0069 - val_loss: 0.3647\n",
      "Epoch 73/125\n",
      "148/148 [==============================] - 9s 59ms/step - loss: 0.0064 - val_loss: 0.2512\n",
      "Epoch 74/125\n",
      "148/148 [==============================] - 9s 60ms/step - loss: 0.0066 - val_loss: 0.3394\n",
      "Epoch 75/125\n",
      "148/148 [==============================] - 9s 59ms/step - loss: 0.0062 - val_loss: 0.2954\n",
      "Epoch 76/125\n",
      "148/148 [==============================] - 9s 61ms/step - loss: 0.0071 - val_loss: 0.2333\n",
      "Epoch 77/125\n",
      "148/148 [==============================] - 9s 62ms/step - loss: 0.0064 - val_loss: 0.4733\n",
      "Epoch 78/125\n",
      "148/148 [==============================] - 10s 65ms/step - loss: 0.0063 - val_loss: 0.3319\n",
      "Epoch 79/125\n",
      "148/148 [==============================] - 9s 59ms/step - loss: 0.0064 - val_loss: 0.2178\n",
      "Epoch 80/125\n",
      "148/148 [==============================] - 9s 58ms/step - loss: 0.0065 - val_loss: 0.4102\n",
      "Epoch 81/125\n",
      "148/148 [==============================] - 9s 59ms/step - loss: 0.0074 - val_loss: 0.5163\n",
      "Epoch 82/125\n",
      "148/148 [==============================] - 9s 59ms/step - loss: 0.0060 - val_loss: 0.1942\n",
      "Epoch 83/125\n",
      "148/148 [==============================] - 9s 60ms/step - loss: 0.0062 - val_loss: 0.2425\n",
      "Epoch 84/125\n",
      "148/148 [==============================] - 9s 60ms/step - loss: 0.0067 - val_loss: 0.3065\n",
      "Epoch 85/125\n",
      "148/148 [==============================] - 9s 60ms/step - loss: 0.0063 - val_loss: 0.4395\n",
      "Epoch 86/125\n",
      "148/148 [==============================] - 9s 59ms/step - loss: 0.0059 - val_loss: 0.2458\n",
      "Epoch 87/125\n",
      "148/148 [==============================] - 9s 59ms/step - loss: 0.0054 - val_loss: 0.2064\n",
      "Epoch 88/125\n",
      "148/148 [==============================] - 9s 60ms/step - loss: 0.0063 - val_loss: 0.3133\n",
      "Epoch 89/125\n",
      "148/148 [==============================] - 9s 60ms/step - loss: 0.0066 - val_loss: 0.2518\n",
      "Epoch 90/125\n",
      "148/148 [==============================] - 9s 58ms/step - loss: 0.0060 - val_loss: 0.5609\n",
      "Epoch 91/125\n",
      "148/148 [==============================] - 9s 59ms/step - loss: 0.0064 - val_loss: 0.3867\n",
      "Epoch 92/125\n",
      "148/148 [==============================] - 9s 58ms/step - loss: 0.0064 - val_loss: 0.3383\n",
      "Epoch 93/125\n",
      "148/148 [==============================] - 9s 58ms/step - loss: 0.0056 - val_loss: 0.2277\n",
      "Epoch 94/125\n",
      "148/148 [==============================] - 9s 59ms/step - loss: 0.0065 - val_loss: 0.4298\n",
      "Epoch 95/125\n",
      "148/148 [==============================] - 9s 58ms/step - loss: 0.0059 - val_loss: 0.3466\n",
      "Epoch 96/125\n",
      "148/148 [==============================] - 9s 59ms/step - loss: 0.0063 - val_loss: 0.6980\n",
      "Epoch 97/125\n",
      "148/148 [==============================] - 9s 59ms/step - loss: 0.0058 - val_loss: 1.2330\n",
      "Epoch 98/125\n",
      "148/148 [==============================] - 9s 59ms/step - loss: 0.0060 - val_loss: 0.3916\n",
      "Epoch 99/125\n",
      "148/148 [==============================] - 9s 59ms/step - loss: 0.0064 - val_loss: 0.3565\n",
      "Epoch 100/125\n",
      "148/148 [==============================] - 9s 58ms/step - loss: 0.0064 - val_loss: 0.5282\n",
      "Epoch 101/125\n",
      "148/148 [==============================] - 9s 58ms/step - loss: 0.0059 - val_loss: 0.1708\n",
      "Epoch 102/125\n",
      "148/148 [==============================] - 9s 58ms/step - loss: 0.0060 - val_loss: 0.3780\n",
      "Epoch 103/125\n",
      "148/148 [==============================] - 9s 58ms/step - loss: 0.0058 - val_loss: 0.3629\n",
      "Epoch 104/125\n",
      "148/148 [==============================] - 9s 59ms/step - loss: 0.0057 - val_loss: 0.2442\n",
      "Epoch 105/125\n",
      "148/148 [==============================] - 9s 58ms/step - loss: 0.0060 - val_loss: 0.4019\n",
      "Epoch 106/125\n",
      "148/148 [==============================] - 9s 59ms/step - loss: 0.0057 - val_loss: 0.3521\n",
      "Epoch 107/125\n",
      "148/148 [==============================] - 8s 57ms/step - loss: 0.0061 - val_loss: 0.5426\n",
      "Epoch 108/125\n",
      "148/148 [==============================] - 9s 58ms/step - loss: 0.0056 - val_loss: 0.2823\n",
      "Epoch 109/125\n",
      "148/148 [==============================] - 9s 58ms/step - loss: 0.0063 - val_loss: 0.2109\n",
      "Epoch 110/125\n",
      "148/148 [==============================] - 8s 57ms/step - loss: 0.0061 - val_loss: 0.3165\n",
      "Epoch 111/125\n",
      "148/148 [==============================] - 9s 59ms/step - loss: 0.0059 - val_loss: 0.1661\n",
      "Epoch 112/125\n",
      "148/148 [==============================] - 9s 58ms/step - loss: 0.0060 - val_loss: 0.4056\n",
      "Epoch 113/125\n",
      "148/148 [==============================] - 9s 58ms/step - loss: 0.0064 - val_loss: 0.3872\n",
      "Epoch 114/125\n",
      "148/148 [==============================] - 9s 58ms/step - loss: 0.0053 - val_loss: 0.3755\n",
      "Epoch 115/125\n",
      "148/148 [==============================] - 9s 58ms/step - loss: 0.0057 - val_loss: 0.3960\n",
      "Epoch 116/125\n",
      "148/148 [==============================] - 8s 57ms/step - loss: 0.0063 - val_loss: 0.7391\n",
      "Epoch 117/125\n",
      "148/148 [==============================] - 9s 58ms/step - loss: 0.0058 - val_loss: 0.4252\n",
      "Epoch 118/125\n",
      "148/148 [==============================] - 9s 58ms/step - loss: 0.0059 - val_loss: 0.2913\n",
      "Epoch 119/125\n",
      "148/148 [==============================] - 9s 58ms/step - loss: 0.0062 - val_loss: 0.2512\n",
      "Epoch 120/125\n",
      "148/148 [==============================] - 9s 58ms/step - loss: 0.0058 - val_loss: 0.4862\n",
      "Epoch 121/125\n",
      "148/148 [==============================] - 9s 58ms/step - loss: 0.0063 - val_loss: 0.4766\n",
      "Epoch 122/125\n",
      "148/148 [==============================] - 9s 58ms/step - loss: 0.0060 - val_loss: 0.3267\n",
      "Epoch 123/125\n",
      "148/148 [==============================] - 8s 57ms/step - loss: 0.0056 - val_loss: 0.4106\n",
      "Epoch 124/125\n",
      "148/148 [==============================] - 8s 57ms/step - loss: 0.0058 - val_loss: 0.3194\n",
      "Epoch 125/125\n",
      "148/148 [==============================] - 9s 58ms/step - loss: 0.0062 - val_loss: 0.1295\n"
     ]
    }
   ],
   "metadata": {}
  },
  {
   "cell_type": "code",
   "execution_count": 10,
   "source": [
    "\n",
    "plt.plot(history.history['loss'], label='Training loss')\n",
    "plt.plot(history.history['val_loss'], label='Validation loss')\n",
    "plt.legend()"
   ],
   "outputs": [
    {
     "output_type": "execute_result",
     "data": {
      "text/plain": [
       "<matplotlib.legend.Legend at 0x7f28e4512eb8>"
      ]
     },
     "metadata": {},
     "execution_count": 10
    },
    {
     "output_type": "display_data",
     "data": {
      "image/png": "[encoded data removed]",
      "text/plain": [
       "<Figure size 432x288 with 1 Axes>"
      ]
     },
     "metadata": {
      "needs_background": "light"
     }
    }
   ],
   "metadata": {}
  },
  {
   "cell_type": "code",
   "execution_count": 11,
   "source": [
    "\n",
    "#Predicting...\n",
    "#Libraries that will help us extract only business days in the US.\n",
    "#Otherwise our dates would be wrong when we look back (or forward).  \n",
    "from pandas.tseries.holiday import USFederalHolidayCalendar\n",
    "from pandas.tseries.offsets import CustomBusinessDay\n",
    "us_bd = CustomBusinessDay(calendar=USFederalHolidayCalendar())\n",
    "\n",
    "# recompute entire data set \n",
    "\n",
    "#Empty lists to be populated using formatted training data\n",
    "trainX = []\n",
    "trainY = []\n",
    "\n",
    "#Reformat input data into a shape: (n_samples x timesteps x n_features)\n",
    "#In my example, my df_for_training_scaled has a shape (12823, 5)\n",
    "#12823 refers to the number of data points and 5 refers to the columns (multi-variables).\n",
    "for i in range(n_past, len(df_for_training_scaled) - n_future +1):\n",
    "    trainX.append(df_for_training_scaled[i - n_past:i, 0:df_for_training.shape[1]])\n",
    "    trainY.append(df_for_training_scaled[i + n_future - 1:i + n_future, 0])\n",
    "\n",
    "\n",
    "trainX, trainY = np.array(trainX), np.array(trainY)\n"
   ],
   "outputs": [],
   "metadata": {}
  },
  {
   "cell_type": "code",
   "execution_count": 12,
   "source": [
    "#Remember that we can only predict one day in future as our model needs 5 variables\n",
    "#as inputs for prediction. We only have all 5 variables until the last day in our dataset.\n",
    "n_past = 201\n",
    "n_days_for_prediction=200  #let us predict past 15 days\n",
    "\n",
    "predict_period_dates = pd.date_range(list(train_dates)[-n_past], periods=n_days_for_prediction, freq=us_bd).tolist()\n",
    "\n",
    "#Make prediction\n",
    "prediction = model.predict(trainX[-n_days_for_prediction:]) #shape = (n, 1) where n is the n_days_for_prediction\n",
    "\n",
    "#Perform inverse transformation to rescale back to original range\n",
    "#Since we used 5 variables for transform, the inverse expects same dimensions\n",
    "#Therefore, let us copy our values 5 times and discard them after inverse transform\n",
    "prediction_copies = np.repeat(prediction, df_for_training.shape[1], axis=-1)\n",
    "y_pred_future = scaler.inverse_transform(prediction_copies)[:,0]"
   ],
   "outputs": [],
   "metadata": {}
  },
  {
   "cell_type": "code",
   "execution_count": 13,
   "source": [
    "trainX.shape"
   ],
   "outputs": [
    {
     "output_type": "execute_result",
     "data": {
      "text/plain": [
       "(2675, 14, 2)"
      ]
     },
     "metadata": {},
     "execution_count": 13
    }
   ],
   "metadata": {}
  },
  {
   "cell_type": "code",
   "execution_count": 14,
   "source": [
    "\n",
    "# Convert timestamp to date\n",
    "forecast_dates = []\n",
    "for time_i in predict_period_dates:\n",
    "    forecast_dates.append(time_i.date())\n",
    "    \n",
    "df_forecast = pd.DataFrame({'date':np.array(forecast_dates), 'closeadj':y_pred_future})\n",
    "df_forecast['date']=pd.to_datetime(df_forecast['date'])\n",
    "\n",
    "\n",
    "original = df[['date', 'closeadj']]\n",
    "original['date']=pd.to_datetime(original['date'])\n",
    "original = original.loc[original['date'] >= '2020-5-1']\n",
    "\n",
    "sns.lineplot(original['date'], original['closeadj'])\n",
    "sns.lineplot(df_forecast['date'], df_forecast['closeadj'])"
   ],
   "outputs": [
    {
     "output_type": "stream",
     "name": "stderr",
     "text": [
      "ipykernel_launcher:11: SettingWithCopyWarning: \n",
      "A value is trying to be set on a copy of a slice from a DataFrame.\n",
      "Try using .loc[row_indexer,col_indexer] = value instead\n",
      "\n",
      "See the caveats in the documentation: https://pandas.pydata.org/pandas-docs/stable/user_guide/indexing.html#returning-a-view-versus-a-copy\n",
      "/home/karim/.local/lib/python3.6/site-packages/seaborn/_decorators.py:43: FutureWarning: Pass the following variables as keyword args: x, y. From version 0.12, the only valid positional argument will be `data`, and passing other arguments without an explicit keyword will result in an error or misinterpretation.\n",
      "  FutureWarning\n",
      "/home/karim/.local/lib/python3.6/site-packages/seaborn/_decorators.py:43: FutureWarning: Pass the following variables as keyword args: x, y. From version 0.12, the only valid positional argument will be `data`, and passing other arguments without an explicit keyword will result in an error or misinterpretation.\n",
      "  FutureWarning\n"
     ]
    },
    {
     "output_type": "execute_result",
     "data": {
      "text/plain": [
       "<AxesSubplot:xlabel='date', ylabel='closeadj'>"
      ]
     },
     "metadata": {},
     "execution_count": 14
    },
    {
     "output_type": "display_data",
     "data": {
      "image/png": "[encoded data removed]",
      "text/plain": [
       "<Figure size 432x288 with 1 Axes>"
      ]
     },
     "metadata": {
      "needs_background": "light"
     }
    }
   ],
   "metadata": {}
  }
 ],
 "metadata": {
  "orig_nbformat": 4,
  "language_info": {
   "name": "python",
   "version": "3.6.9",
   "mimetype": "text/x-python",
   "codemirror_mode": {
    "name": "ipython",
    "version": 3
   },
   "pygments_lexer": "ipython3",
   "nbconvert_exporter": "python",
   "file_extension": ".py"
  },
  "kernelspec": {
   "name": "python3",
   "display_name": "Python 3.6.9 64-bit"
  },
  "interpreter": {
   "hash": "31f2aee4e71d21fbe5cf8b01ff0e069b9275f58929596ceb00d14d90e3e16cd6"
  }
 },
 "nbformat": 4,
 "nbformat_minor": 2
}