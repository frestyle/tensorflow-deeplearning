{
 "cells": [
  {
   "cell_type": "code",
   "execution_count": 1,
   "source": [
    "import numpy as np\n",
    "from keras.models import Sequential\n",
    "from keras.layers import LSTM, Input, Dropout\n",
    "from keras.layers import Dense\n",
    "from keras.layers import RepeatVector\n",
    "from keras.layers import TimeDistributed\n",
    "import pandas as pd\n",
    "from matplotlib import pyplot as plt\n",
    "from sklearn.preprocessing import MinMaxScaler, StandardScaler\n",
    "from keras.models import Model\n",
    "import seaborn as sns\n"
   ],
   "outputs": [],
   "metadata": {}
  },
  {
   "cell_type": "code",
   "execution_count": 2,
   "source": [
    "    \n",
    "dataframe = pd.read_csv('../lstm/data/AAPL.csv')\n",
    "df = dataframe[['date', 'closeadj']]\n",
    "df['date'] = pd.to_datetime(df['date'])\n",
    "\n",
    "sns.lineplot(x=df['date'], y=df['closeadj'])\n",
    "\n",
    "\n",
    "print(\"Start date is: \", df['date'].min())\n",
    "print(\"End date is: \", df['date'].max())"
   ],
   "outputs": [
    {
     "output_type": "stream",
     "name": "stderr",
     "text": [
      "/home/karim/.local/lib/python3.6/site-packages/ipykernel_launcher.py:3: SettingWithCopyWarning: \n",
      "A value is trying to be set on a copy of a slice from a DataFrame.\n",
      "Try using .loc[row_indexer,col_indexer] = value instead\n",
      "\n",
      "See the caveats in the documentation: https://pandas.pydata.org/pandas-docs/stable/user_guide/indexing.html#returning-a-view-versus-a-copy\n",
      "  This is separate from the ipykernel package so we can avoid doing imports until\n"
     ]
    },
    {
     "output_type": "stream",
     "name": "stdout",
     "text": [
      "Start date is:  2011-01-03 00:00:00\n",
      "End date is:  2021-09-08 00:00:00\n"
     ]
    },
    {
     "output_type": "display_data",
     "data": {
      "image/png": "[encoded data removed]",
      "text/plain": [
       "<Figure size 432x288 with 1 Axes>"
      ]
     },
     "metadata": {
      "needs_background": "light"
     }
    }
   ],
   "metadata": {}
  },
  {
   "cell_type": "code",
   "execution_count": 3,
   "source": [
    "#Change train data from Mid 2017 to 2019.... seems to be a jump early 2017\n",
    "train, test = df.loc[df['date'] <= '2019-12-31'], df.loc[df['date'] > '2019-12-31']"
   ],
   "outputs": [],
   "metadata": {}
  },
  {
   "cell_type": "code",
   "execution_count": 4,
   "source": [
    "scaler = StandardScaler()\n",
    "scaler = scaler.fit(train[['closeadj']])\n",
    "\n",
    "train['closeadj'] = scaler.transform(train[['closeadj']])\n",
    "test['closeadj'] = scaler.transform(test[['closeadj']])"
   ],
   "outputs": [
    {
     "output_type": "stream",
     "name": "stderr",
     "text": [
      "/home/karim/.local/lib/python3.6/site-packages/ipykernel_launcher.py:4: SettingWithCopyWarning: \n",
      "A value is trying to be set on a copy of a slice from a DataFrame.\n",
      "Try using .loc[row_indexer,col_indexer] = value instead\n",
      "\n",
      "See the caveats in the documentation: https://pandas.pydata.org/pandas-docs/stable/user_guide/indexing.html#returning-a-view-versus-a-copy\n",
      "  after removing the cwd from sys.path.\n",
      "/home/karim/.local/lib/python3.6/site-packages/ipykernel_launcher.py:5: SettingWithCopyWarning: \n",
      "A value is trying to be set on a copy of a slice from a DataFrame.\n",
      "Try using .loc[row_indexer,col_indexer] = value instead\n",
      "\n",
      "See the caveats in the documentation: https://pandas.pydata.org/pandas-docs/stable/user_guide/indexing.html#returning-a-view-versus-a-copy\n",
      "  \"\"\"\n"
     ]
    }
   ],
   "metadata": {}
  },
  {
   "cell_type": "code",
   "execution_count": 5,
   "source": [
    "\n",
    "seq_size = 14  # Number of time steps to look back \n",
    "#Larger sequences (look further back) may improve forecasting.\n",
    "\n",
    "\n",
    "def to_sequences(x, y, seq_size=1):\n",
    "    x_values = []\n",
    "    y_values = []\n",
    "\n",
    "    for i in range(len(x)-seq_size):\n",
    "        #print(i)\n",
    "        x_values.append(x.iloc[i:(i+seq_size)].values)\n",
    "        y_values.append(y.iloc[i+seq_size])\n",
    "        \n",
    "    return np.array(x_values), np.array(y_values)\n",
    "\n",
    "trainX, trainY = to_sequences(train[['closeadj']], train['closeadj'], seq_size)\n",
    "testX, testY = to_sequences(test[['closeadj']], test['closeadj'], seq_size)"
   ],
   "outputs": [],
   "metadata": {}
  },
  {
   "cell_type": "code",
   "execution_count": 6,
   "source": [
    "\n",
    "# define Autoencoder model\n",
    "#Input shape would be seq_size, 1 - 1 beacuse we have 1 feature. \n",
    "# seq_size = trainX.shape[1]\n",
    "\n",
    "model = Sequential()\n",
    "model.add(LSTM(128, activation='relu', input_shape=(trainX.shape[1], trainX.shape[2]), return_sequences=True))\n",
    "model.add(LSTM(64, activation='relu', return_sequences=False))\n",
    "model.add(RepeatVector(trainX.shape[1]))\n",
    "model.add(LSTM(64, activation='relu', return_sequences=True))\n",
    "model.add(LSTM(128, activation='relu', return_sequences=True))\n",
    "model.add(TimeDistributed(Dense(trainX.shape[2])))\n",
    "\n",
    "model.compile(optimizer='adam', loss='mse')\n",
    "model.summary()\n",
    "\n",
    "#Try another model\n",
    "# model = Sequential()\n",
    "# model.add(LSTM(128, input_shape=(trainX.shape[1], trainX.shape[2])))\n",
    "# model.add(Dropout(rate=0.2))\n",
    "\n",
    "# model.add(RepeatVector(trainX.shape[1]))\n",
    "\n",
    "# model.add(LSTM(128, return_sequences=True))\n",
    "# model.add(Dropout(rate=0.2))\n",
    "# model.add(TimeDistributed(Dense(trainX.shape[2])))\n",
    "# model.compile(optimizer='adam', loss='mae')\n",
    "# model.summary()"
   ],
   "outputs": [
    {
     "output_type": "stream",
     "name": "stdout",
     "text": [
      "WARNING:tensorflow:Layer lstm will not use cuDNN kernels since it doesn't meet the criteria. It will use a generic GPU kernel as fallback when running on GPU.\n",
      "WARNING:tensorflow:Layer lstm_1 will not use cuDNN kernels since it doesn't meet the criteria. It will use a generic GPU kernel as fallback when running on GPU.\n",
      "WARNING:tensorflow:Layer lstm_2 will not use cuDNN kernels since it doesn't meet the criteria. It will use a generic GPU kernel as fallback when running on GPU.\n",
      "WARNING:tensorflow:Layer lstm_3 will not use cuDNN kernels since it doesn't meet the criteria. It will use a generic GPU kernel as fallback when running on GPU.\n",
      "Model: \"sequential\"\n",
      "_________________________________________________________________\n",
      "Layer (type)                 Output Shape              Param #   \n",
      "=================================================================\n",
      "lstm (LSTM)                  (None, 14, 128)           66560     \n",
      "_________________________________________________________________\n",
      "lstm_1 (LSTM)                (None, 64)                49408     \n",
      "_________________________________________________________________\n",
      "repeat_vector (RepeatVector) (None, 14, 64)            0         \n",
      "_________________________________________________________________\n",
      "lstm_2 (LSTM)                (None, 14, 64)            33024     \n",
      "_________________________________________________________________\n",
      "lstm_3 (LSTM)                (None, 14, 128)           98816     \n",
      "_________________________________________________________________\n",
      "time_distributed (TimeDistri (None, 14, 1)             129       \n",
      "=================================================================\n",
      "Total params: 247,937\n",
      "Trainable params: 247,937\n",
      "Non-trainable params: 0\n",
      "_________________________________________________________________\n"
     ]
    }
   ],
   "metadata": {}
  },
  {
   "cell_type": "code",
   "execution_count": 7,
   "source": [
    "\n",
    "# fit model\n",
    "history = model.fit(trainX, trainY, epochs=100, batch_size=32, validation_split=0.1, verbose=1)\n",
    "\n",
    "plt.plot(history.history['loss'], label='Training loss')\n",
    "plt.plot(history.history['val_loss'], label='Validation loss')\n",
    "plt.legend()"
   ],
   "outputs": [
    {
     "output_type": "stream",
     "name": "stdout",
     "text": [
      "Epoch 1/100\n",
      "64/64 [==============================] - 11s 91ms/step - loss: 0.2234 - val_loss: 0.3281\n",
      "Epoch 2/100\n",
      "64/64 [==============================] - 5s 83ms/step - loss: 0.0226 - val_loss: 0.2429\n",
      "Epoch 3/100\n",
      "64/64 [==============================] - 5s 83ms/step - loss: 0.0126 - val_loss: 0.0718\n",
      "Epoch 4/100\n",
      "64/64 [==============================] - 5s 85ms/step - loss: 0.0077 - val_loss: 0.1509\n",
      "Epoch 5/100\n",
      "64/64 [==============================] - 5s 85ms/step - loss: 0.0067 - val_loss: 0.0377\n",
      "Epoch 6/100\n",
      "64/64 [==============================] - 6s 86ms/step - loss: 0.0060 - val_loss: 0.0252\n",
      "Epoch 7/100\n",
      "64/64 [==============================] - 5s 83ms/step - loss: 0.0108 - val_loss: 0.0511\n",
      "Epoch 8/100\n",
      "64/64 [==============================] - 5s 85ms/step - loss: 0.0052 - val_loss: 0.0495\n",
      "Epoch 9/100\n",
      "64/64 [==============================] - 5s 85ms/step - loss: 0.0044 - val_loss: 0.0444\n",
      "Epoch 10/100\n",
      "64/64 [==============================] - 5s 84ms/step - loss: 0.0046 - val_loss: 0.0520\n",
      "Epoch 11/100\n",
      "64/64 [==============================] - 5s 82ms/step - loss: 0.0042 - val_loss: 0.0626\n",
      "Epoch 12/100\n",
      "64/64 [==============================] - 5s 80ms/step - loss: 0.0036 - val_loss: 0.0783\n",
      "Epoch 13/100\n",
      "64/64 [==============================] - 5s 82ms/step - loss: 0.0041 - val_loss: 0.0458\n",
      "Epoch 14/100\n",
      "64/64 [==============================] - 5s 83ms/step - loss: 0.0037 - val_loss: 0.0344\n",
      "Epoch 15/100\n",
      "64/64 [==============================] - 5s 82ms/step - loss: 0.0031 - val_loss: 0.0346\n",
      "Epoch 16/100\n",
      "64/64 [==============================] - 5s 82ms/step - loss: 0.0027 - val_loss: 0.0273\n",
      "Epoch 17/100\n",
      "64/64 [==============================] - 5s 83ms/step - loss: 0.0029 - val_loss: 0.0684\n",
      "Epoch 18/100\n",
      "64/64 [==============================] - 5s 83ms/step - loss: 0.0037 - val_loss: 0.0562\n",
      "Epoch 19/100\n",
      "64/64 [==============================] - 5s 81ms/step - loss: 0.0030 - val_loss: 0.0475\n",
      "Epoch 20/100\n",
      "64/64 [==============================] - 5s 81ms/step - loss: 0.0033 - val_loss: 0.0257\n",
      "Epoch 21/100\n",
      "64/64 [==============================] - 5s 83ms/step - loss: 0.0027 - val_loss: 0.0378\n",
      "Epoch 22/100\n",
      "64/64 [==============================] - 5s 82ms/step - loss: 0.0025 - val_loss: 0.0521\n",
      "Epoch 23/100\n",
      "64/64 [==============================] - 5s 83ms/step - loss: 0.0030 - val_loss: 0.0201\n",
      "Epoch 24/100\n",
      "64/64 [==============================] - 5s 81ms/step - loss: 0.0025 - val_loss: 0.0264\n",
      "Epoch 25/100\n",
      "64/64 [==============================] - 5s 82ms/step - loss: 0.0027 - val_loss: 0.0245\n",
      "Epoch 26/100\n",
      "64/64 [==============================] - 5s 82ms/step - loss: 0.0025 - val_loss: 0.0451\n",
      "Epoch 27/100\n",
      "64/64 [==============================] - 5s 82ms/step - loss: 0.0022 - val_loss: 0.0234\n",
      "Epoch 28/100\n",
      "64/64 [==============================] - 5s 82ms/step - loss: 0.0025 - val_loss: 0.0189\n",
      "Epoch 29/100\n",
      "64/64 [==============================] - 5s 83ms/step - loss: 0.0021 - val_loss: 0.0526\n",
      "Epoch 30/100\n",
      "64/64 [==============================] - 5s 83ms/step - loss: 0.0024 - val_loss: 0.0424\n",
      "Epoch 31/100\n",
      "64/64 [==============================] - 5s 84ms/step - loss: 0.0020 - val_loss: 0.0700\n",
      "Epoch 32/100\n",
      "64/64 [==============================] - 5s 84ms/step - loss: 0.0029 - val_loss: 0.0263\n",
      "Epoch 33/100\n",
      "64/64 [==============================] - 5s 82ms/step - loss: 0.0017 - val_loss: 0.0184\n",
      "Epoch 34/100\n",
      "64/64 [==============================] - 5s 83ms/step - loss: 0.0020 - val_loss: 0.0229\n",
      "Epoch 35/100\n",
      "64/64 [==============================] - 5s 80ms/step - loss: 0.0024 - val_loss: 0.0428\n",
      "Epoch 36/100\n",
      "64/64 [==============================] - 5s 83ms/step - loss: 0.0018 - val_loss: 0.0335\n",
      "Epoch 37/100\n",
      "64/64 [==============================] - 5s 83ms/step - loss: 0.0020 - val_loss: 0.0355\n",
      "Epoch 38/100\n",
      "64/64 [==============================] - 5s 82ms/step - loss: 0.0016 - val_loss: 0.0229\n",
      "Epoch 39/100\n",
      "64/64 [==============================] - 5s 81ms/step - loss: 0.0022 - val_loss: 0.0604\n",
      "Epoch 40/100\n",
      "64/64 [==============================] - 5s 81ms/step - loss: 0.0018 - val_loss: 0.0415\n",
      "Epoch 41/100\n",
      "64/64 [==============================] - 5s 82ms/step - loss: 0.0018 - val_loss: 0.0362\n",
      "Epoch 42/100\n",
      "64/64 [==============================] - 5s 82ms/step - loss: 0.0017 - val_loss: 0.0189\n",
      "Epoch 43/100\n",
      "64/64 [==============================] - 5s 82ms/step - loss: 0.0014 - val_loss: 0.0309\n",
      "Epoch 44/100\n",
      "64/64 [==============================] - 5s 81ms/step - loss: 0.0017 - val_loss: 0.0166\n",
      "Epoch 45/100\n",
      "64/64 [==============================] - 5s 83ms/step - loss: 0.0016 - val_loss: 0.0223\n",
      "Epoch 46/100\n",
      "64/64 [==============================] - 5s 82ms/step - loss: 0.0023 - val_loss: 0.0219\n",
      "Epoch 47/100\n",
      "64/64 [==============================] - 5s 82ms/step - loss: 0.0017 - val_loss: 0.0231\n",
      "Epoch 48/100\n",
      "64/64 [==============================] - 5s 82ms/step - loss: 0.0023 - val_loss: 0.0157\n",
      "Epoch 49/100\n",
      "64/64 [==============================] - 5s 83ms/step - loss: 0.0015 - val_loss: 0.0308\n",
      "Epoch 50/100\n",
      "64/64 [==============================] - 5s 81ms/step - loss: 0.0015 - val_loss: 0.0174\n",
      "Epoch 51/100\n",
      "64/64 [==============================] - 5s 84ms/step - loss: 0.0015 - val_loss: 0.0146\n",
      "Epoch 52/100\n",
      "64/64 [==============================] - 5s 82ms/step - loss: 0.0018 - val_loss: 0.0364\n",
      "Epoch 53/100\n",
      "64/64 [==============================] - 5s 84ms/step - loss: 0.0016 - val_loss: 0.0287\n",
      "Epoch 54/100\n",
      "64/64 [==============================] - 5s 83ms/step - loss: 0.0017 - val_loss: 0.0330\n",
      "Epoch 55/100\n",
      "64/64 [==============================] - 5s 83ms/step - loss: 0.0015 - val_loss: 0.0089\n",
      "Epoch 56/100\n",
      "64/64 [==============================] - 5s 82ms/step - loss: 0.0014 - val_loss: 0.0144\n",
      "Epoch 57/100\n",
      "64/64 [==============================] - 5s 83ms/step - loss: 0.0017 - val_loss: 0.0388\n",
      "Epoch 58/100\n",
      "64/64 [==============================] - 5s 82ms/step - loss: 0.0025 - val_loss: 0.0241\n",
      "Epoch 59/100\n",
      "64/64 [==============================] - 5s 84ms/step - loss: 0.0018 - val_loss: 0.0267\n",
      "Epoch 60/100\n",
      "64/64 [==============================] - 5s 83ms/step - loss: 0.0014 - val_loss: 0.0253\n",
      "Epoch 61/100\n",
      "64/64 [==============================] - 5s 81ms/step - loss: 0.0016 - val_loss: 0.0395\n",
      "Epoch 62/100\n",
      "64/64 [==============================] - 5s 81ms/step - loss: 0.0014 - val_loss: 0.0287\n",
      "Epoch 63/100\n",
      "64/64 [==============================] - 5s 82ms/step - loss: 0.0016 - val_loss: 0.0328\n",
      "Epoch 64/100\n",
      "64/64 [==============================] - 5s 82ms/step - loss: 0.0015 - val_loss: 0.0187\n",
      "Epoch 65/100\n",
      "64/64 [==============================] - 5s 82ms/step - loss: 0.0018 - val_loss: 0.0295\n",
      "Epoch 66/100\n",
      "64/64 [==============================] - 5s 82ms/step - loss: 0.0014 - val_loss: 0.0401\n",
      "Epoch 67/100\n",
      "64/64 [==============================] - 5s 82ms/step - loss: 0.0019 - val_loss: 0.0240\n",
      "Epoch 68/100\n",
      "64/64 [==============================] - 5s 82ms/step - loss: 0.0015 - val_loss: 0.0200\n",
      "Epoch 69/100\n",
      "64/64 [==============================] - 5s 82ms/step - loss: 0.0019 - val_loss: 0.0268\n",
      "Epoch 70/100\n",
      "64/64 [==============================] - 5s 83ms/step - loss: 0.0015 - val_loss: 0.0260\n",
      "Epoch 71/100\n",
      "64/64 [==============================] - 5s 81ms/step - loss: 0.0015 - val_loss: 0.0209\n",
      "Epoch 72/100\n",
      "64/64 [==============================] - 5s 83ms/step - loss: 0.0018 - val_loss: 0.0214\n",
      "Epoch 73/100\n",
      "64/64 [==============================] - 5s 82ms/step - loss: 0.0016 - val_loss: 0.0350\n",
      "Epoch 74/100\n",
      "64/64 [==============================] - 5s 81ms/step - loss: 0.0014 - val_loss: 0.0161\n",
      "Epoch 75/100\n",
      "64/64 [==============================] - 5s 84ms/step - loss: 0.0015 - val_loss: 0.0261\n",
      "Epoch 76/100\n",
      "64/64 [==============================] - 5s 83ms/step - loss: 0.0014 - val_loss: 0.0278\n",
      "Epoch 77/100\n",
      "64/64 [==============================] - 5s 82ms/step - loss: 0.0014 - val_loss: 0.0139\n",
      "Epoch 78/100\n",
      "64/64 [==============================] - 5s 82ms/step - loss: 0.0013 - val_loss: 0.0312\n",
      "Epoch 79/100\n",
      "64/64 [==============================] - 5s 83ms/step - loss: 0.0015 - val_loss: 0.0276\n",
      "Epoch 80/100\n",
      "64/64 [==============================] - 5s 84ms/step - loss: 0.0019 - val_loss: 0.0171\n",
      "Epoch 81/100\n",
      "64/64 [==============================] - 5s 81ms/step - loss: 0.0015 - val_loss: 0.0384\n",
      "Epoch 82/100\n",
      "64/64 [==============================] - 5s 82ms/step - loss: 0.0013 - val_loss: 0.0345\n",
      "Epoch 83/100\n",
      "64/64 [==============================] - 5s 82ms/step - loss: 0.0014 - val_loss: 0.0265\n",
      "Epoch 84/100\n",
      "64/64 [==============================] - 5s 83ms/step - loss: 0.0017 - val_loss: 0.0695\n",
      "Epoch 85/100\n",
      "64/64 [==============================] - 5s 81ms/step - loss: 0.0019 - val_loss: 0.0183\n",
      "Epoch 86/100\n",
      "64/64 [==============================] - 5s 83ms/step - loss: 0.0012 - val_loss: 0.0173\n",
      "Epoch 87/100\n",
      "64/64 [==============================] - 5s 84ms/step - loss: 0.0012 - val_loss: 0.0319\n",
      "Epoch 88/100\n",
      "64/64 [==============================] - 5s 83ms/step - loss: 0.0013 - val_loss: 0.0263\n",
      "Epoch 89/100\n",
      "64/64 [==============================] - 5s 82ms/step - loss: 0.0016 - val_loss: 0.0287\n",
      "Epoch 90/100\n",
      "64/64 [==============================] - 5s 83ms/step - loss: 0.0014 - val_loss: 0.0296\n",
      "Epoch 91/100\n",
      "64/64 [==============================] - 5s 83ms/step - loss: 0.0014 - val_loss: 0.0172\n",
      "Epoch 92/100\n",
      "64/64 [==============================] - 5s 82ms/step - loss: 0.0014 - val_loss: 0.0329\n",
      "Epoch 93/100\n",
      "64/64 [==============================] - 5s 82ms/step - loss: 0.0016 - val_loss: 0.0247\n",
      "Epoch 94/100\n",
      "64/64 [==============================] - 5s 82ms/step - loss: 0.0013 - val_loss: 0.0149\n",
      "Epoch 95/100\n",
      "64/64 [==============================] - 5s 84ms/step - loss: 0.0013 - val_loss: 0.0186\n",
      "Epoch 96/100\n",
      "64/64 [==============================] - 5s 83ms/step - loss: 0.0013 - val_loss: 0.0177\n",
      "Epoch 97/100\n",
      "64/64 [==============================] - 5s 84ms/step - loss: 0.0017 - val_loss: 0.0205\n",
      "Epoch 98/100\n",
      "64/64 [==============================] - 5s 83ms/step - loss: 0.0016 - val_loss: 0.0160\n",
      "Epoch 99/100\n",
      "64/64 [==============================] - 5s 83ms/step - loss: 0.0014 - val_loss: 0.0205\n",
      "Epoch 100/100\n",
      "64/64 [==============================] - 5s 81ms/step - loss: 0.0017 - val_loss: 0.0217\n"
     ]
    },
    {
     "output_type": "execute_result",
     "data": {
      "text/plain": [
       "<matplotlib.legend.Legend at 0x7f15f03fee10>"
      ]
     },
     "metadata": {},
     "execution_count": 7
    },
    {
     "output_type": "display_data",
     "data": {
      "image/png": "[encoded data removed]",
      "text/plain": [
       "<Figure size 432x288 with 1 Axes>"
      ]
     },
     "metadata": {
      "needs_background": "light"
     }
    }
   ],
   "metadata": {}
  },
  {
   "cell_type": "code",
   "execution_count": 8,
   "source": [
    "\n",
    "trainPredict = model.predict(trainX)\n",
    "trainMAE = np.mean(np.abs(trainPredict - trainX), axis=1)\n",
    "plt.hist(trainMAE, bins=30)\n",
    "max_trainMAE = 0.3  #or Define 90% value of max as threshold.\n",
    "\n",
    "testPredict = model.predict(testX)\n",
    "testMAE = np.mean(np.abs(testPredict - testX), axis=1)\n",
    "plt.hist(testMAE, bins=30)\n",
    "\n",
    "#Capture all details in a DataFrame for easy plotting\n",
    "anomaly_df = pd.DataFrame(test[seq_size:])\n",
    "anomaly_df['testMAE'] = testMAE\n",
    "anomaly_df['max_trainMAE'] = max_trainMAE\n",
    "anomaly_df['anomaly'] = anomaly_df['testMAE'] > anomaly_df['max_trainMAE']\n",
    "anomaly_df['closeadj'] = test[seq_size:]['closeadj']\n",
    "\n",
    "#Plot testMAE vs max_trainMAE\n",
    "sns.lineplot(x=anomaly_df['date'], y=anomaly_df['testMAE'])\n",
    "sns.lineplot(x=anomaly_df['date'], y=anomaly_df['max_trainMAE'])\n",
    "\n",
    "anomalies = anomaly_df.loc[anomaly_df['anomaly'] == True]\n",
    "\n",
    "#Plot anomalies\n",
    "sns.lineplot(x=anomaly_df['date'], y=scaler.inverse_transform(anomaly_df['closeadj']))\n",
    "sns.scatterplot(x=anomalies['date'], y=scaler.inverse_transform(anomalies['closeadj']), color='r')"
   ],
   "outputs": [
    {
     "output_type": "execute_result",
     "data": {
      "text/plain": [
       "<AxesSubplot:xlabel='date', ylabel='testMAE'>"
      ]
     },
     "metadata": {},
     "execution_count": 8
    },
    {
     "output_type": "display_data",
     "data": {
      "image/png": "[encoded data removed]",
      "text/plain": [
       "<Figure size 432x288 with 1 Axes>"
      ]
     },
     "metadata": {
      "needs_background": "light"
     }
    }
   ],
   "metadata": {}
  }
 ],
 "metadata": {
  "orig_nbformat": 4,
  "language_info": {
   "name": "python",
   "version": "3.8.10",
   "mimetype": "text/x-python",
   "codemirror_mode": {
    "name": "ipython",
    "version": 3
   },
   "pygments_lexer": "ipython3",
   "nbconvert_exporter": "python",
   "file_extension": ".py"
  },
  "kernelspec": {
   "name": "python3",
   "display_name": "Python 3.8.10 64-bit"
  },
  "interpreter": {
   "hash": "31f2aee4e71d21fbe5cf8b01ff0e069b9275f58929596ceb00d14d90e3e16cd6"
  }
 },
 "nbformat": 4,
 "nbformat_minor": 2
}